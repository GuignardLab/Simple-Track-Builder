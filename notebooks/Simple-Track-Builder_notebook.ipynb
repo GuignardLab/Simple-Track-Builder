{
 "cells": [
  {
   "cell_type": "markdown",
   "id": "ed08f86b",
   "metadata": {},
   "source": [
    "# Simple-Track-Builder Notebook"
   ]
  },
  {
   "cell_type": "code",
   "execution_count": null,
   "id": "8cd9db54",
   "metadata": {},
   "outputs": [],
   "source": [
    "from simple_track_builder import SimpleTrackBuilder"
   ]
  },
  {
   "cell_type": "markdown",
   "metadata": {},
   "source": [
    "## Defining the label images\n",
    "Before building your tracks you have to define where are your label images.\n",
    "\n",
    "One way to do so could be as bellow:"
   ]
  },
  {
   "cell_type": "code",
   "execution_count": 10,
   "id": "54e5d627",
   "metadata": {},
   "outputs": [],
   "source": [
    "# Format of the image path\n",
    "path = \"/path/to/folder/im_t{t:03d}.tiff\"\n",
    "\n",
    "# Starting time-point\n",
    "t_start = 0\n",
    "\n",
    "# Ending time-point\n",
    "t_end = 10\n",
    "\n",
    "# building the pathes\n",
    "pathes = [path.format(t=t) for t in range(t_start, t_end+1)]\n",
    "# print(pathes)\n",
    "# -> ['/path/to/folder/im_t000.tiff', '/path/to/folder/im_t001.tiff', ... ]"
   ]
  },
  {
   "cell_type": "markdown",
   "metadata": {},
   "source": [
    "## Building your track module\n",
    "Here it is important to well define the background"
   ]
  },
  {
   "cell_type": "code",
   "execution_count": null,
   "id": "9c13606f",
   "metadata": {},
   "outputs": [],
   "source": [
    "track = SimpleTrackBuilder(pathes, background=0)"
   ]
  },
  {
   "cell_type": "markdown",
   "metadata": {},
   "source": [
    "## Building the lineage"
   ]
  },
  {
   "cell_type": "code",
   "execution_count": null,
   "metadata": {},
   "outputs": [],
   "source": [
    "track.build_lineages() # That is provided that the images exist"
   ]
  },
  {
   "cell_type": "markdown",
   "metadata": {},
   "source": [
    "## Writing the lineage"
   ]
  },
  {
   "cell_type": "code",
   "execution_count": null,
   "metadata": {},
   "outputs": [],
   "source": [
    "track.write(\"output.lT\")"
   ]
  }
 ],
 "metadata": {
  "kernelspec": {
   "display_name": "Python 3 (ipykernel)",
   "language": "python",
   "name": "python3"
  },
  "language_info": {
   "codemirror_mode": {
    "name": "ipython",
    "version": 3
   },
   "file_extension": ".py",
   "mimetype": "text/x-python",
   "name": "python",
   "nbconvert_exporter": "python",
   "pygments_lexer": "ipython3",
   "version": "3.10.13"
  }
 },
 "nbformat": 4,
 "nbformat_minor": 5
}
